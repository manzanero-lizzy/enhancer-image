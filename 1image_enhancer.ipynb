{
 "cells": [
  {
   "cell_type": "code",
   "execution_count": 2,
   "id": "dbf61b5f",
   "metadata": {},
   "outputs": [
    {
     "name": "stdout",
     "output_type": "stream",
     "text": [
      "    1 - enhancing buraw.jpg\n",
      "    2 - enhancing Eublekeera splendens.jpg\n",
      "    3 - enhancing kwaw.jpg\n",
      "    4 - enhancing priacanthus macracanthus.jpg\n",
      "    5 - enhancing rastrelliger faughni.jpg\n",
      "    6 - enhancing sapsap.jpg\n",
      "    7 - enhancing sardinella lemuru.jpg\n",
      "    8 - enhancing tamban.jpg\n",
      "\n",
      "    done\n"
     ]
    }
   ],
   "source": [
    "from PIL import Image, ImageFilter\n",
    "import os, sys\n",
    "\n",
    "#directory containing fish images - palitan nyo nalang\n",
    "#note: dapat forward slash\n",
    "path = \"C:/Users/Eliza Marie/Desktop/THESIS/nsap/NSAP/\"\n",
    "dirs = os.listdir( path )\n",
    "\n",
    "#the output will be placed to \"yourpathtofishimages/resized/\"\n",
    "\n",
    "def enhance():\n",
    "\ti = 1\n",
    "\tfor item in dirs:\n",
    "\t\tif os.path.isfile(path+item):\n",
    "\n",
    "\t\t\tif not item.lower().endswith(('.png', '.jpg', '.jpeg', '.tiff', '.bmp', '.gif')):\n",
    "\t\t\t\ti+=1\n",
    "\t\t\t\tcontinue\n",
    "\t\t\t\n",
    "\t\t\tim = Image.open(path+item)\n",
    "\t\t\tf, e = os.path.splitext(path+item)\n",
    "\t\t\tfilename = item.split(\".\")[0]\n",
    "\t\t\t# exist or not.\n",
    "\t\t\tif not os.path.exists(path+\"enhanced/\"):\n",
    "\t\t\t\t# if the demo_folder directory is not present \n",
    "\t\t\t\t# then create it.\n",
    "\t\t\t\tos.makedirs(path+\"enhanced/\")\n",
    "\n",
    "\t\t\tprint(f\"    {i} - enhancing {item}\")\n",
    "\t\t\timResize = im.filter(ImageFilter.DETAIL)\n",
    "\t\t\timResize.save(path + 'enhanced/' + filename + ' 256 x 256.jpg', 'JPEG', quality=100, subsampling=0)\n",
    "\t\ti+=1\n",
    "\n",
    "enhance()\n",
    "print(\"\\n    done\")"
   ]
  },
  {
   "cell_type": "code",
   "execution_count": null,
   "id": "811cb8f6",
   "metadata": {},
   "outputs": [],
   "source": []
  }
 ],
 "metadata": {
  "kernelspec": {
   "display_name": "Python 3 (ipykernel)",
   "language": "python",
   "name": "python3"
  },
  "language_info": {
   "codemirror_mode": {
    "name": "ipython",
    "version": 3
   },
   "file_extension": ".py",
   "mimetype": "text/x-python",
   "name": "python",
   "nbconvert_exporter": "python",
   "pygments_lexer": "ipython3",
   "version": "3.9.7"
  }
 },
 "nbformat": 4,
 "nbformat_minor": 5
}
